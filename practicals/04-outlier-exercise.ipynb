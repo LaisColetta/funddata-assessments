{
 "cells": [
  {
   "cell_type": "code",
   "execution_count": null,
   "id": "b13ba83a",
   "metadata": {},
   "outputs": [],
   "source": [
    "Outliers - Exercise 1\n",
    "Introduction\n",
    "The purpose of this exercise is recreate the following Wikipedia Box Plot by producing multiple box plots from a dataframe on the one plot\n",
    "# Numerical arrays.\n",
    "\n",
    "import numpy as np\n",
    "\n",
    "# Plotting.\n",
    "import matplotlib.pyplot as plt\n",
    "\n",
    "# Statistics.\n",
    "import scipy.stats as ss\n",
    "\n",
    "Exercise 1\n",
    "Remember to do these exercises in your own notebook in your assessment repository.\n",
    "Outliers - Exercise 1\n",
    "Recreating a Wikipedia Box Plot\n",
    "Introduction\n",
    "The purpose of this exercise is recreate the following Wikipedia Box Plot by producing multiple box plots from a dataframe on the one plot\n",
    "Create box plots on a single set of axes for all five experiments in the morley data set.\n",
    "\n",
    "Exercise 2\n",
    "Create box plots for all of the numercial variables in Fisher's Iris Data Set.\n",
    "\n",
    "Exercise 3\n",
    "Adapt the above code and plots so that the overall plot is inversely propertional and the individual groups are directly proportional.\n",
    "# Same plot as above but with best fit lines included\n",
    "\n",
    "# Refer to Simpson's Paradox\n",
    "\n",
    "# Creating the figure \n",
    "fig = plt.figure() \n",
    "ax = fig.add_subplot(111) #to adjust the size of the boxplot\n",
    "ax.set_title('Boxplot') #title of the boxplot \n",
    "ax.set_xlabel('Experiment Number') #labeling the x axis \n",
    "ax.set_ylabel('Speed of light (km/s minus 299,000)') #labeling the x axis \n",
    "ax.grid() #Adding a grid\n",
    "ax.boxplot(data, widths = 0.5, patch_artist = True); #printing the plot calling in the data, the width of the box plots and adding colour to the plots\n"
   ]
  }
 ],
 "metadata": {
  "kernelspec": {
   "display_name": "Python 3 (ipykernel)",
   "language": "python",
   "name": "python3"
  },
  "language_info": {
   "codemirror_mode": {
    "name": "ipython",
    "version": 3
   },
   "file_extension": ".py",
   "mimetype": "text/x-python",
   "name": "python",
   "nbconvert_exporter": "python",
   "pygments_lexer": "ipython3",
   "version": "3.9.12"
  }
 },
 "nbformat": 4,
 "nbformat_minor": 5
}
