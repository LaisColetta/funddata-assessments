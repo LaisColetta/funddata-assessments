{
 "cells": [
  {
   "cell_type": "markdown",
   "metadata": {},
   "source": [
    "### Exercise 2 - Randomness \n",
    "\n",
    "<i> Lais Coletta Pereira </i>"
   ]
  },
  {
   "cell_type": "markdown",
   "metadata": {},
   "source": [
    "<b>1) It is somewhat interesting that (5 * 4 * 3 * 2 * 1) perfectly divides (10 * 9 * 8 * 7 * 6) - there's no remainder.\n",
    "\n"
   ]
  },
  {
   "cell_type": "code",
   "execution_count": 1,
   "metadata": {},
   "outputs": [
    {
     "data": {
      "text/plain": [
       "252.0"
      ]
     },
     "execution_count": 1,
     "metadata": {},
     "output_type": "execute_result"
    }
   ],
   "source": [
    "(10 * 9 * 8 * 7 * 6)/(5 * 4 * 3 * 2 * 1)"
   ]
  },
  {
   "cell_type": "markdown",
   "metadata": {},
   "source": [
    "<b> If we only wanted exactly four heads as opposed to five, the equivalent calculation would be (10 * 9 * 8 * 7) / (4 * 3 * 2 * 1).\n",
    "\n",
    "<b>Does that evenly divide too? </b>"
   ]
  },
  {
   "cell_type": "markdown",
   "metadata": {},
   "source": [
    "Yes, it does, the result is 210"
   ]
  },
  {
   "cell_type": "code",
   "execution_count": 2,
   "metadata": {},
   "outputs": [
    {
     "data": {
      "text/plain": [
       "210.0"
      ]
     },
     "execution_count": 2,
     "metadata": {},
     "output_type": "execute_result"
    }
   ],
   "source": [
    "(10 * 9 * 8 * 7) / (4 * 3 * 2 * 1)"
   ]
  },
  {
   "cell_type": "markdown",
   "metadata": {},
   "source": [
    "<b>What is the formula in general?</b>"
   ]
  },
  {
   "cell_type": "markdown",
   "metadata": {},
   "source": [
    "Combinations is the what is called the way to calculate the total outcomes of an event where order of the outcomes doesn't matter. \n",
    "The formula to calculate combination is:\n",
    "\n",
    "nCr = n! / r!(n-r)!\n",
    "\n",
    "n = number of items\n",
    "r = number of items being chosen at a time\n",
    "\n",
    "To calculate a combination we calculate the factorial, which is represented by the '!', we multiply all positive integers equal to and less than the chosen number. For example, the factorial of 4 is 4*3*2*1. Therefore, to calculate the chance that 4 heads have in 10 coin tosses using the formula we do:\n",
    "\n",
    "10C3 = 10*9*8*7*6*5*4*3*2*1 / 4*3*2*1 *(10-4)! = 6! = 6*5*4*3*2*1\n",
    "\n",
    "In factorial, you can 'cancel' the same values\n",
    "10C3 = 10*9*8*7<s>*6*5*4*3*2*1</s> / 4*3*2*1 *(10-4)! = 6! = <s>6*5*4*3*2*1</s>\n",
    "10C3 = 10*9*8*7 / 4*3*2*1\n",
    "\n",
    "Now, we have the (10 * 9 * 8 * 7) / (4 * 3 * 2 * 1) suggested at the beginning of this exercise and will result in 210.\n",
    "\n",
    "In python, we can use the formula:"
   ]
  },
  {
   "cell_type": "code",
   "execution_count": 3,
   "metadata": {},
   "outputs": [
    {
     "name": "stdout",
     "output_type": "stream",
     "text": [
      "210\n"
     ]
    }
   ],
   "source": [
    "#import math\n",
    "import math\n",
    "\n",
    "#Initialize the number of items to choose from\n",
    "n = 10\n",
    "\n",
    "#Initialize the number of possibilities to choose\n",
    "k = 4\n",
    "\n",
    "#Print total number of possible combinations\n",
    "print (math.comb(n, k))\n",
    "\n",
    "#SOURCE: https://www.w3schools.com/python/ref_math_comb.asp"
   ]
  },
  {
   "cell_type": "markdown",
   "metadata": {},
   "source": [
    "<b> Does it always come out as a positive whole number? </b>"
   ]
  },
  {
   "cell_type": "code",
   "execution_count": 4,
   "metadata": {},
   "outputs": [
    {
     "ename": "NameError",
     "evalue": "name 'math' is not defined",
     "output_type": "error",
     "traceback": [
      "\u001b[0;31m---------------------------------------------------------------------------\u001b[0m",
      "\u001b[0;31mNameError\u001b[0m                                 Traceback (most recent call last)",
      "Input \u001b[0;32mIn [4]\u001b[0m, in \u001b[0;36m<cell line: 7>\u001b[0;34m()\u001b[0m\n\u001b[1;32m      4\u001b[0m k \u001b[38;5;241m=\u001b[39m \u001b[38;5;241m-\u001b[39m\u001b[38;5;241m1\u001b[39m\n\u001b[1;32m      6\u001b[0m \u001b[38;5;66;03m#Print total number of possible combinations\u001b[39;00m\n\u001b[0;32m----> 7\u001b[0m \u001b[38;5;28mprint\u001b[39m (\u001b[43mmath\u001b[49m\u001b[38;5;241m.\u001b[39mcomb(n, k))\n",
      "\u001b[0;31mNameError\u001b[0m: name 'math' is not defined"
     ]
    }
   ],
   "source": [
    "n = 1\n",
    "\n",
    "#Simulate a negative number\n",
    "k = -1\n",
    "\n",
    "#Print total number of possible combinations\n",
    "print (math.comb(n, k))"
   ]
  },
  {
   "cell_type": "code",
   "execution_count": 5,
   "metadata": {},
   "outputs": [
    {
     "ename": "NameError",
     "evalue": "name 'math' is not defined",
     "output_type": "error",
     "traceback": [
      "\u001b[0;31m---------------------------------------------------------------------------\u001b[0m",
      "\u001b[0;31mNameError\u001b[0m                                 Traceback (most recent call last)",
      "Input \u001b[0;32mIn [5]\u001b[0m, in \u001b[0;36m<cell line: 7>\u001b[0;34m()\u001b[0m\n\u001b[1;32m      4\u001b[0m k \u001b[38;5;241m=\u001b[39m \u001b[38;5;241m0.2\u001b[39m\n\u001b[1;32m      6\u001b[0m \u001b[38;5;66;03m#Print total number of possible combinations\u001b[39;00m\n\u001b[0;32m----> 7\u001b[0m \u001b[38;5;28mprint\u001b[39m (\u001b[43mmath\u001b[49m\u001b[38;5;241m.\u001b[39mcomb(n, k))\n",
      "\u001b[0;31mNameError\u001b[0m: name 'math' is not defined"
     ]
    }
   ],
   "source": [
    "n = 1\n",
    "\n",
    "#Simulate a fraction number\n",
    "k = 0.2\n",
    "\n",
    "#Print total number of possible combinations\n",
    "print (math.comb(n, k))"
   ]
  },
  {
   "cell_type": "markdown",
   "metadata": {},
   "source": [
    "Yes, it will be always positive as there are no negative probabilities and/or a factorial of a negative number:\n",
    "\n",
    "-1! = 0! / 0 = 1 / 0 = undefined\n",
    "\n",
    "It would be impossible to have a negative probability to not to take one head or one tail from flipping a coin.\n",
    "\n",
    "\"<i>The probability of the outcome of an experiment is never negative, although a quasiprobability distribution allows a negative probability, or quasiprobability for some events. These distributions may apply to unobservable events or conditional probabilities.</i>\" (https://en.wikipedia.org/wiki/Negative_probability)"
   ]
  },
  {
   "cell_type": "markdown",
   "metadata": {},
   "source": [
    "<b>2) Note that there are the same number of ways to get 4 tails as there are to get 4 heads. Explain why this is.</b>"
   ]
  },
  {
   "cell_type": "markdown",
   "metadata": {},
   "source": [
    "Assuming that the coin tosses are all fair, when one coin is tossed four times the possibitlities are head (H) or tail (T). Therefore we have 16 possibilities:\n",
    "\n",
    "HHHH , HHHT, HHTH , HHTT , HTHH, HTHT, HTTH, HTTT, THHH , THHT, THTH , THTT , TTHH, TTHT, TTTH, TTTT.\n",
    "\n",
    "4 heads or 4 tails = HHHH and TTTT, which means one possibility for four heads and one for four tails (same number of ways). Using binomial distribution we can ilustrate the likelihood that a variable will take one of two independent values under a given set of parameters.\n",
    "\n",
    "Even though in theory we know that the probablity is the same, when simulating this on python using random distribution the results are not the same when we run the code. However, the higher is the number of trials, the more equal possibilities of equal sequencies of four heads and four tail we have. "
   ]
  },
  {
   "cell_type": "code",
   "execution_count": 48,
   "metadata": {},
   "outputs": [
    {
     "data": {
      "image/png": "[encoded data removed]",
      "text/plain": [
       "<Figure size 432x288 with 1 Axes>"
      ]
     },
     "metadata": {
      "needs_background": "light"
     },
     "output_type": "display_data"
    }
   ],
   "source": [
    "import matplotlib.pyplot as plt\n",
    "import numpy as np\n",
    "\n",
    "coins = 4\n",
    "trials = 1000\n",
    "\n",
    "# Run the trials.\n",
    "heads = np.random.binomial(coins, 0.5, trials)\n",
    "\n",
    "# Count the unique values in the returned list.\n",
    "vals, counts = np.unique(heads, return_counts=True)\n",
    "\n",
    "# Plot results in a histogram.\n",
    "plt.bar(vals, counts);\n",
    "\n",
    "#reference: binomial distribution class https://github.com/ianmcloughlin/2223-S1-fund-data-analysis/blob/main/notebooks/02-randomness.ipynb"
   ]
  },
  {
   "cell_type": "markdown",
   "metadata": {},
   "source": [
    "Every time we run this code the graph will change as it is randomly selecting  "
   ]
  },
  {
   "cell_type": "markdown",
   "metadata": {},
   "source": [
    "### Exercise 3\n",
    "\n",
    "Plot bar charts or histograms of any three different distributions listed at the following link:\n",
    "https://numpy.org/doc/stable/reference/random/generator.html#distributions"
   ]
  },
  {
   "cell_type": "markdown",
   "metadata": {},
   "source": [
    "<b>1) numpy.random.Generator.chisquare</b>\n",
    "\n",
    "\"<i>Chi-square (Χ2) distributions are a family of continuous probability distributions. They’re widely used in hypothesis tests, including the chi-square goodness of fit test and the chi-square test of independence.\n",
    "\n",
    "The shape of a chi-square distribution is determined by the parameter k, which represents the degrees of freedom.\n",
    "\n",
    "Very few real-world observations follow a chi-square distribution. The main purpose of chi-square distributions is hypothesis testing, not describing real-world distributions</i>\"\n",
    "\n",
    "Reference: https://www.scribbr.com/statistics/chi-square-distributions/\n",
    "\n",
    "Chi-square distribution in Numpy: <b>random.Generator.chisquare(df, size=None)</b>\n",
    "\n",
    "Parameters:\n",
    "<b>df</b> - float or array_like of floats\n",
    "Number of degrees of freedom, must be > 0.\n",
    "\n",
    "<b>size</b> - int or tuple of ints, optional"
   ]
  },
  {
   "cell_type": "code",
   "execution_count": 11,
   "metadata": {},
   "outputs": [
    {
     "name": "stdout",
     "output_type": "stream",
     "text": [
      "[[1.67548891e-01 1.73010968e-01 2.18317304e-01 1.77536215e+00\n",
      "  1.99993244e+00]\n",
      " [7.56154081e+00 1.54723913e-02 7.66546118e+00 2.17693941e-02\n",
      "  1.50611680e-01]\n",
      " [8.32312048e-02 7.90429320e-01 2.48398836e-01 2.38574239e+00\n",
      "  4.34723808e-01]\n",
      " [1.20443941e+00 2.69253650e-03 1.24563687e-02 1.40628014e-01\n",
      "  1.47588507e-01]]\n"
     ]
    }
   ],
   "source": [
    "from numpy import random\n",
    "\n",
    "x = random.chisquare(df=1, size=(4, 5))\n",
    "\n",
    "print(x)"
   ]
  },
  {
   "cell_type": "code",
   "execution_count": 13,
   "metadata": {},
   "outputs": [
    {
     "name": "stderr",
     "output_type": "stream",
     "text": [
      "/Applications/anaconda3/lib/python3.9/site-packages/seaborn/distributions.py:2619: FutureWarning: `distplot` is a deprecated function and will be removed in a future version. Please adapt your code to use either `displot` (a figure-level function with similar flexibility) or `histplot` (an axes-level function for histograms).\n",
      "  warnings.warn(msg, FutureWarning)\n"
     ]
    },
    {
     "data": {
      "image/png": "[encoded data removed]",
      "text/plain": [
       "<Figure size 432x288 with 1 Axes>"
      ]
     },
     "metadata": {
      "needs_background": "light"
     },
     "output_type": "display_data"
    }
   ],
   "source": [
    "#import matplot\n",
    "import matplotlib.pyplot as plt\n",
    "\n",
    "#import seaborn\n",
    "import seaborn as sns\n",
    "\n",
    "#create a histogram using chi-square distribution\n",
    "sns.distplot(random.chisquare(df=1, size=1000))\n",
    "\n",
    "#print graph\n",
    "plt.show()"
   ]
  },
  {
   "cell_type": "markdown",
   "metadata": {},
   "source": [
    "<b>2) numpy.random.Generator.exponential\n"
   ]
  },
  {
   "cell_type": "markdown",
   "metadata": {},
   "source": [
    "\"<i>The exponential distribution is often concerned with the amount of time until some specific event occurs. For example, the amount of time (beginning now) until an earthquake occurs has an exponential distribution</i>\".\n",
    "\n",
    "Reference: https://courses.lumenlearning.com/introstats1/chapter/the-exponential-distribution/\n",
    "\n",
    "Exponential distribution in Numpy: <b>random.Generator.exponential(scale=1.0, size=None)</b>\n",
    "\n",
    "Parameters:\n",
    "<b>scale</b> - float or array_like of floats\n",
    "Must be non-negative.\n",
    "\n",
    "<b>size</b> - int or tuple of ints, optional"
   ]
  },
  {
   "cell_type": "code",
   "execution_count": 14,
   "metadata": {},
   "outputs": [
    {
     "name": "stdout",
     "output_type": "stream",
     "text": [
      "[[8.85170891e-01 1.26919751e+00 1.64103242e-01 5.66542164e-01\n",
      "  8.79670208e-02]\n",
      " [3.12825745e-01 2.27381615e-01 1.74156961e+00 1.43776663e+00\n",
      "  6.60910237e-02]\n",
      " [6.51741620e-04 3.33841616e-01 8.06253374e-01 1.19843723e+00\n",
      "  1.85178326e-01]\n",
      " [5.22602362e-01 5.23968502e-01 3.21604895e-01 8.77141349e-01\n",
      "  1.48940027e+00]]\n"
     ]
    }
   ],
   "source": [
    "x = random.exponential(scale=1, size=(4, 5))\n",
    "\n",
    "print(x)"
   ]
  },
  {
   "cell_type": "code",
   "execution_count": 15,
   "metadata": {},
   "outputs": [
    {
     "name": "stderr",
     "output_type": "stream",
     "text": [
      "/Applications/anaconda3/lib/python3.9/site-packages/seaborn/distributions.py:2619: FutureWarning: `distplot` is a deprecated function and will be removed in a future version. Please adapt your code to use either `displot` (a figure-level function with similar flexibility) or `histplot` (an axes-level function for histograms).\n",
      "  warnings.warn(msg, FutureWarning)\n"
     ]
    },
    {
     "data": {
      "image/png": "[encoded data removed]",
      "text/plain": [
       "<Figure size 432x288 with 1 Axes>"
      ]
     },
     "metadata": {
      "needs_background": "light"
     },
     "output_type": "display_data"
    }
   ],
   "source": [
    "sns.distplot(random.exponential(size=1000))\n",
    "\n",
    "plt.show()"
   ]
  },
  {
   "cell_type": "markdown",
   "metadata": {},
   "source": [
    "<b>3) numpy.random.Generator.gamma </b>\n",
    "\n",
    "\"<i>The gamma distribution is a two-parameter family of curves. The gamma distribution models sums of exponentially distributed random variables and generalizes both the chi-square and exponential distributions</i>\".\n",
    "\n",
    "Reference: https://www.mathworks.com/help/stats/gamma-distribution.html\n",
    "\n",
    "Gamma distribution in Numpy: <b>random.Generator.gamma(shape, scale=1.0, size=None)</b>\n",
    "\n",
    "Parameters:\n",
    "<b>shape</b> - float or array_like of floats\n",
    "The shape of the gamma distribution. Must be non-negative.\n",
    "\n",
    "<b>scale</b> - float or array_like of floats\n",
    "The scale of the gamma distribution. Must be non-negative. Default is equal to 1.\n",
    "\n",
    "<b>size</b> - int or tuple of ints, optional\n",
    "Output shape. If the given shape is, e.g., (m, n, k), then m * n * k samples are drawn. If size is None (default), a single value is returned if shape and scale are both scalars."
   ]
  },
  {
   "cell_type": "code",
   "execution_count": 23,
   "metadata": {},
   "outputs": [
    {
     "name": "stdout",
     "output_type": "stream",
     "text": [
      "[[0.12879596 2.2700511  0.61287527 2.29470085 1.86115691]\n",
      " [1.97067592 2.24976896 1.25185437 0.39331002 0.45392976]\n",
      " [2.49277081 1.75721672 0.05157028 0.28521016 1.3788233 ]\n",
      " [1.5100024  0.92980633 0.04804575 0.62282558 0.49159364]]\n"
     ]
    }
   ],
   "source": [
    "x = random.gamma(shape=1, scale=1, size=(4,5))\n",
    "\n",
    "print(x)"
   ]
  },
  {
   "cell_type": "code",
   "execution_count": 25,
   "metadata": {},
   "outputs": [
    {
     "name": "stderr",
     "output_type": "stream",
     "text": [
      "/Applications/anaconda3/lib/python3.9/site-packages/seaborn/distributions.py:2619: FutureWarning: `distplot` is a deprecated function and will be removed in a future version. Please adapt your code to use either `displot` (a figure-level function with similar flexibility) or `histplot` (an axes-level function for histograms).\n",
      "  warnings.warn(msg, FutureWarning)\n"
     ]
    },
    {
     "data": {
      "image/png": "[encoded data removed]",
      "text/plain": [
       "<Figure size 432x288 with 1 Axes>"
      ]
     },
     "metadata": {
      "needs_background": "light"
     },
     "output_type": "display_data"
    }
   ],
   "source": [
    "sns.distplot(random.gamma(shape=1, scale=1, size=1000))\n",
    "\n",
    "plt.show()"
   ]
  }
 ],
 "metadata": {
  "kernelspec": {
   "display_name": "Python 3 (ipykernel)",
   "language": "python",
   "name": "python3"
  },
  "language_info": {
   "codemirror_mode": {
    "name": "ipython",
    "version": 3
   },
   "file_extension": ".py",
   "mimetype": "text/x-python",
   "name": "python",
   "nbconvert_exporter": "python",
   "pygments_lexer": "ipython3",
   "version": "3.9.12"
  }
 },
 "nbformat": 4,
 "nbformat_minor": 2
}
