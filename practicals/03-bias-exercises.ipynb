{
 "cells": [
  {
   "cell_type": "markdown",
   "metadata": {},
   "source": [
    "## Topic 3 - Bias \n",
    "\n",
    "<b> Student: Lais Coletta Pereira </b>\n",
    "***\n",
    "\n",
    "### Exercise 1\n",
    "\n",
    "<b>1) Give three real-world examples of different types of cognitive bias.</b>\n"
   ]
  },
  {
   "cell_type": "markdown",
   "metadata": {},
   "source": [
    "As discussed in this bias module, cognitive biases are tendencies or patterns when making a decision, usually inherited by cultural and personal experiences, that lead to distorted perceptions of reality. And while data might seem objective, data is collected and analyzed by humans and thus can be biased.\n",
    "\n",
    "According to the website https://www.metabase.com/blog/6-most-common-type-of-data-bias-in-data-analysis there are many different types of cognitive bias, a very common example in Data Analytics is the <b>confirmative bias</b>. This is the tendency to search for, interpret, or remember information in a way that confirms our own preconceptions or hypotheses. One example in real life is when detectives are trying to find the guilty or suspects of certain crimes they are investigating. In theory, they must look at all the evidence objectively and seek additional data toa solve the crime. Maybe they have seen similar situations so many times before in their career that they develop a “working theory” about what happened.\n",
    "Once they start investigating, they will have a theory ready and may begin to search for evidence consistent with that theory. They may interview witnesses that fit a certain stereotype and ask specific questions that are also a little biased. Another example would be if I am developing an app that makes it easier for elderly people to shop online. I run a survey in which the questions direct the public to confirm this specific age group is in need of such an app and prove that my idea is good. I would also look into the data to compare the elderly and younger generations' online purchases amount. I conclude then that this parcel of the population would like to have an app in which they could easier buy their needs. However, the real conclusion is that they would prefer to go to a shop and personally buy the product. \n",
    "\n",
    "Another type of cognitive bias is <b>selection bias </b> which occurs when looking at samples that are not representative of the population. One example would be testing the long-term covid effects in the Irish population and the investigator includes only healthy young adults in the trials whereas the long-term effects predominantly affect the older population. \n",
    "\n",
    "On the other hand, <b>historical bias</b>, occurs when socio-cultural prejudices and beliefs are mirrored into systematic processes. For example, there are studies analyzing that machine learning models trained on Wikipedia produced gender-biased analogies like doctors are more likely to be men and women nurses, men a commander and women school teachers. The model inherited the historical biases of society by learning from the huge corpora of text and produced work further reinforcing those biases."
   ]
  },
  {
   "cell_type": "markdown",
   "metadata": {},
   "source": [
    "***\n",
    "\n",
    "### Exercise 2\n",
    "\n",
    "<b> Show that that the difference between the standard deviation calculations is greatest for small sample sizes.</b>\n",
    "\n",
    "As explained above, standard deviation is a key measure that explains how spread out values are in a data set. A small standard deviation happens when data points are fairly close to the mean. However, a large standard deviation happens when values are less clustered around the mean.\n",
    "\n",
    "Standard Deviation is a measure of spread in Statistics. It is used to quantify the measure of spread, variation of a set of data values. It is very much similar to variance, gives the measure of deviation whereas variance provides the squared value. \n"
   ]
  },
  {
   "cell_type": "code",
   "execution_count": 1,
   "metadata": {},
   "outputs": [
    {
     "name": "stdout",
     "output_type": "stream",
     "text": [
      "Standard Deviation of sample is 1.5811388300841898 \n"
     ]
    }
   ],
   "source": [
    "# Python code to demonstrate stdev() function\n",
    " \n",
    "# importing Statistics module\n",
    "import statistics\n",
    " \n",
    "# creating a simple data - set\n",
    "sample = [1, 2, 3, 4, 5]\n",
    " \n",
    "# Prints standard deviation\n",
    "# xbar is set to default value of 1\n",
    "print(\"Standard Deviation of sample is % s \"\n",
    "                % (statistics.stdev(sample)))"
   ]
  }
 ],
 "metadata": {
  "kernelspec": {
   "display_name": "Python 3 (ipykernel)",
   "language": "python",
   "name": "python3"
  },
  "language_info": {
   "codemirror_mode": {
    "name": "ipython",
    "version": 3
   },
   "file_extension": ".py",
   "mimetype": "text/x-python",
   "name": "python",
   "nbconvert_exporter": "python",
   "pygments_lexer": "ipython3",
   "version": "3.9.12"
  }
 },
 "nbformat": 4,
 "nbformat_minor": 2
}
