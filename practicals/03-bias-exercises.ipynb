{
 "cells": [
  {
   "cell_type": "markdown",
   "metadata": {},
   "source": [
    "### Exercise 3 - Bias \n",
    "\n",
    "Lais Colleta Pereira\n",
    "\n",
    "<b>1) Give three real-world examples of different types of cognitive bias.</b>\n"
   ]
  },
  {
   "cell_type": "markdown",
   "metadata": {},
   "source": [
    "As discussed in this bias module, cognitive biases are tendencies or patterns when making a decision, usually inherited by cultural and personal experiences, that lead to distorted perceptions of the reality. And while data might seem objective, data is collected and analyzed by humans, and thus can be biased.\n",
    "\n",
    "According to the website https://www.metabase.com/blog/6-most-common-type-of-data-bias-in-data-analysis there are many different types of cognitive bias, for example, the <b>confirmative bias</b>, which is very common when analysing a dataset. This is the tendency to search for, interpret, or remember information in a way that confirms our own pre-conceptions or hypotheses. One common example in real life is when detectives are trying to find the guilty or suspects of certain crime they are investigating. In theory, they must look at all the evidence objectively and seek additional data to solve the crime. Maybe they have seen similar situations so many times before in their career that they develop a “working theory” about what happened.\n",
    "Once they start investigating, they will have a theory ready and they may begin to search for evidence that is consistent with that theory. They may interview witnesses that fit a certain stereotype and ask specific questions that are also a little biased.\n",
    "\n",
    "Another type of cognitive bias is <b>selection bias </b> that occur when looking at samples that are not representative of the population. One example would be testing the long term covid effects in the irish population and the investigator includes only healthy young adults in the trials whereas the long term effects predominantly affects the older population. \n",
    "\n",
    "In the other hand, <b>historical bias</b>, occurs when socio-cultural prejudices and beliefs are mirrored into systematic processes. For example, there are studies analysing that machine learning models trained on Wikipedia produced gender-biased analogies like doctors are more likely to be men and women nurse, men a commander and women a school teacher. The model inherited the historical biases of society by learning from the huge corpora of text, and produced work further reinforcing those biases."
   ]
  },
  {
   "cell_type": "markdown",
   "metadata": {},
   "source": [
    "<b>Optional exercise:</b>\n",
    "Calculate the standart deviation of numbers1 = np.array([1, 1, 1, 1, 10])"
   ]
  },
  {
   "cell_type": "markdown",
   "metadata": {},
   "source": [
    "<b>2) Show that the difference between the standard deviation calculations is greatest for small sample sizes.</b>\n",
    "\n",
    "As explained above, standard deviation is a key measure that explains how spread out values are in a data set. A small standard deviation happens when data points are fairly close to the mean. However, a large standard deviation happens when values are less clustered around the mean.\n",
    "\n"
   ]
  }
 ],
 "metadata": {
  "kernelspec": {
   "display_name": "Python 3 (ipykernel)",
   "language": "python",
   "name": "python3"
  },
  "language_info": {
   "codemirror_mode": {
    "name": "ipython",
    "version": 3
   },
   "file_extension": ".py",
   "mimetype": "text/x-python",
   "name": "python",
   "nbconvert_exporter": "python",
   "pygments_lexer": "ipython3",
   "version": "3.9.12"
  }
 },
 "nbformat": 4,
 "nbformat_minor": 2
}
