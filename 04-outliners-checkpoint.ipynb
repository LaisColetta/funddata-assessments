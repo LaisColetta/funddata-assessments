# Numerical arrays.
import numpy as np

# Plotting.
import matplotlib.pyplot as plt

# Statistics.
import scipy.stats as ss

Exercise 1
Remember to do these exercises in your own notebook in your assessment repository.

Create box plots on a single set of axes for all five experiments in the morley data set.

Exercise 2
Remember to do these exercises in your own notebook in your assessment repository.

Create box plots for all of the numercial variables in Fisher's Iris Data Set.

Exercise 3
Adapt the above code and plots so that the overall plot is inversely propertional and the individual groups are directly proportional.
# Same plot as above but with best fit lines included
for i in range(len(xs)):
    plt.plot(xs[i], ys[i], '.')
    m, c = np.polyfit(xs[i], ys[i], 1)
    xbestfit = np.linspace(xs[i].min(), xs[i].max(), 50)
    ybestfit = m * xbestfit + c
    plt.plot(xbestfit, ybestfit, color = 'lightgrey')
# Refer to Simpson's Paradox