{
 "cells": [
  {
   "cell_type": "markdown",
   "metadata": {},
   "source": [
    "### Exercise 2 - Randomness \n",
    "\n",
    "<i> Lais Coletta Pereira </i>"
   ]
  },
  {
   "cell_type": "markdown",
   "metadata": {},
   "source": [
    "<b>1) It is somewhat interesting that (5 * 4 * 3 * 2 * 1) perfectly divides (10 * 9 * 8 * 7 * 6) - there's no remainder.\n",
    "\n"
   ]
  },
  {
   "cell_type": "code",
   "execution_count": 5,
   "metadata": {},
   "outputs": [
    {
     "data": {
      "text/plain": [
       "252.0"
      ]
     },
     "execution_count": 5,
     "metadata": {},
     "output_type": "execute_result"
    }
   ],
   "source": [
    "(10 * 9 * 8 * 7 * 6)/(5 * 4 * 3 * 2 * 1)"
   ]
  },
  {
   "cell_type": "markdown",
   "metadata": {},
   "source": [
    "<b> If we only wanted exactly four heads as opposed to five, the equivalent calculation would be (10 * 9 * 8 * 7) / (4 * 3 * 2 * 1).\n",
    "\n",
    "Does that evenly divide too? </b>"
   ]
  },
  {
   "cell_type": "code",
   "execution_count": null,
   "metadata": {},
   "outputs": [],
   "source": [
    "Yes, it does, the result is 210."
   ]
  },
  {
   "cell_type": "code",
   "execution_count": 6,
   "metadata": {},
   "outputs": [
    {
     "data": {
      "text/plain": [
       "210.0"
      ]
     },
     "execution_count": 6,
     "metadata": {},
     "output_type": "execute_result"
    }
   ],
   "source": [
    "(10 * 9 * 8 * 7) / (4 * 3 * 2 * 1)"
   ]
  },
  {
   "cell_type": "markdown",
   "metadata": {},
   "source": [
    "<b>What is the formula in general?</b>"
   ]
  },
  {
   "cell_type": "markdown",
   "metadata": {},
   "source": [
    "Combinations is the what is called the way to calculate the total outcomes of an event where order of the outcomes doesn't matter. \n",
    "The formula to calculate combination is:\n",
    "\n",
    "nCr = n! / r!(n-r)!\n",
    "\n",
    "n = number of items\n",
    "r = number of items being chosen at a time\n",
    "\n",
    "To calculate a combination we calculate the factorial, which is represented by the '!', we multiply all positive integers equal to and less than the chosen number. For example, the factorial of 4 is 4*3*2*1. Therefore, to calculate the chance that 4 heads have in 10 coin tosses using the formula we do:\n",
    "\n",
    "10C3 = 10*9*8*7*6*5*4*3*2*1 / 4*3*2*1 *(10-4)! = 6! = 6*5*4*3*2*1\n",
    "\n",
    "In factorial you can be cancel same values\n",
    "10C3 = 10*9*8*7<s>*6*5*4*3*2*1</s> / 4*3*2*1 *(10-4)! = 6! = <s>6*5*4*3*2*1</s>\n",
    "10C3 = 10*9*8*7 / 4*3*2*1\n",
    "\n",
    "Now, we have the (10 * 9 * 8 * 7) / (4 * 3 * 2 * 1) suggested at the beginning of this exercise and will result in 210.\n",
    "In python, we can use the formula:"
   ]
  },
  {
   "cell_type": "markdown",
   "metadata": {},
   "source": [
    "<b> Does it always come out as a positive whole number? </b>"
   ]
  },
  {
   "cell_type": "markdown",
   "metadata": {},
   "source": []
  },
  {
   "cell_type": "markdown",
   "metadata": {},
   "source": [
    "<b>2) Note that there are the same number of ways to get 4 tails as there to get 4 heads. Explain why this is.</b>"
   ]
  },
  {
   "cell_type": "markdown",
   "metadata": {},
   "source": []
  }
 ],
 "metadata": {
  "kernelspec": {
   "display_name": "Python 3 (ipykernel)",
   "language": "python",
   "name": "python3"
  },
  "language_info": {
   "codemirror_mode": {
    "name": "ipython",
    "version": 3
   },
   "file_extension": ".py",
   "mimetype": "text/x-python",
   "name": "python",
   "nbconvert_exporter": "python",
   "pygments_lexer": "ipython3",
   "version": "3.9.12"
  }
 },
 "nbformat": 4,
 "nbformat_minor": 2
}
