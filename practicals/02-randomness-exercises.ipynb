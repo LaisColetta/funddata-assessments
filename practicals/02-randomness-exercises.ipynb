{
 "cells": [
  {
   "cell_type": "markdown",
   "metadata": {},
   "source": [
    "### Exercise 2 - Randomness \n",
    "\n",
    "<i> Lais Coletta Pereira </i>"
   ]
  },
  {
   "cell_type": "markdown",
   "metadata": {},
   "source": [
    "<b>1) It is somewhat interesting that (5 * 4 * 3 * 2 * 1) perfectly divides (10 * 9 * 8 * 7 * 6) - there's no remainder.\n",
    "\n"
   ]
  },
  {
   "cell_type": "code",
   "execution_count": 5,
   "metadata": {},
   "outputs": [
    {
     "data": {
      "text/plain": [
       "252.0"
      ]
     },
     "execution_count": 5,
     "metadata": {},
     "output_type": "execute_result"
    }
   ],
   "source": [
    "(10 * 9 * 8 * 7 * 6)/(5 * 4 * 3 * 2 * 1)"
   ]
  },
  {
   "cell_type": "markdown",
   "metadata": {},
   "source": [
    "<b> If we only wanted exactly four heads as opposed to five, the equivalent calculation would be (10 * 9 * 8 * 7) / (4 * 3 * 2 * 1).\n",
    "\n",
    "<b>Does that evenly divide too? </b>"
   ]
  },
  {
   "cell_type": "markdown",
   "metadata": {},
   "source": [
    "Yes, it does, the result is 210"
   ]
  },
  {
   "cell_type": "code",
   "execution_count": 6,
   "metadata": {},
   "outputs": [
    {
     "data": {
      "text/plain": [
       "210.0"
      ]
     },
     "execution_count": 6,
     "metadata": {},
     "output_type": "execute_result"
    }
   ],
   "source": [
    "(10 * 9 * 8 * 7) / (4 * 3 * 2 * 1)"
   ]
  },
  {
   "cell_type": "markdown",
   "metadata": {},
   "source": [
    "<b>What is the formula in general?</b>"
   ]
  },
  {
   "cell_type": "markdown",
   "metadata": {},
   "source": [
    "Combinations is the what is called the way to calculate the total outcomes of an event where order of the outcomes doesn't matter. \n",
    "The formula to calculate combination is:\n",
    "\n",
    "nCr = n! / r!(n-r)!\n",
    "\n",
    "n = number of items\n",
    "r = number of items being chosen at a time\n",
    "\n",
    "To calculate a combination we calculate the factorial, which is represented by the '!', we multiply all positive integers equal to and less than the chosen number. For example, the factorial of 4 is 4*3*2*1. Therefore, to calculate the chance that 4 heads have in 10 coin tosses using the formula we do:\n",
    "\n",
    "10C3 = 10*9*8*7*6*5*4*3*2*1 / 4*3*2*1 *(10-4)! = 6! = 6*5*4*3*2*1\n",
    "\n",
    "In factorial, you can 'cancel' the same values\n",
    "10C3 = 10*9*8*7<s>*6*5*4*3*2*1</s> / 4*3*2*1 *(10-4)! = 6! = <s>6*5*4*3*2*1</s>\n",
    "10C3 = 10*9*8*7 / 4*3*2*1\n",
    "\n",
    "Now, we have the (10 * 9 * 8 * 7) / (4 * 3 * 2 * 1) suggested at the beginning of this exercise and will result in 210.\n",
    "\n",
    "In python, we can use the formula:"
   ]
  },
  {
   "cell_type": "code",
   "execution_count": 6,
   "metadata": {},
   "outputs": [
    {
     "name": "stdout",
     "output_type": "stream",
     "text": [
      "210\n"
     ]
    }
   ],
   "source": [
    "#import math\n",
    "import math\n",
    "\n",
    "#Initialize the number of items to choose from\n",
    "n = 10\n",
    "\n",
    "#Initialize the number of possibilities to choose\n",
    "k = 4\n",
    "\n",
    "#Print total number of possible combinations\n",
    "print (math.comb(n, k))\n",
    "\n",
    "#SOURCE: https://www.w3schools.com/python/ref_math_comb.asp"
   ]
  },
  {
   "cell_type": "markdown",
   "metadata": {},
   "source": [
    "<b> Does it always come out as a positive whole number? </b>"
   ]
  },
  {
   "cell_type": "code",
   "execution_count": 11,
   "metadata": {},
   "outputs": [
    {
     "ename": "ValueError",
     "evalue": "k must be a non-negative integer",
     "output_type": "error",
     "traceback": [
      "\u001b[0;31m---------------------------------------------------------------------------\u001b[0m",
      "\u001b[0;31mValueError\u001b[0m                                Traceback (most recent call last)",
      "Input \u001b[0;32mIn [11]\u001b[0m, in \u001b[0;36m<cell line: 11>\u001b[0;34m()\u001b[0m\n\u001b[1;32m      8\u001b[0m k \u001b[38;5;241m=\u001b[39m \u001b[38;5;241m-\u001b[39m\u001b[38;5;241m1\u001b[39m\n\u001b[1;32m     10\u001b[0m \u001b[38;5;66;03m#Print total number of possible combinations\u001b[39;00m\n\u001b[0;32m---> 11\u001b[0m \u001b[38;5;28mprint\u001b[39m (\u001b[43mmath\u001b[49m\u001b[38;5;241;43m.\u001b[39;49m\u001b[43mcomb\u001b[49m\u001b[43m(\u001b[49m\u001b[43mn\u001b[49m\u001b[43m,\u001b[49m\u001b[43m \u001b[49m\u001b[43mk\u001b[49m\u001b[43m)\u001b[49m)\n",
      "\u001b[0;31mValueError\u001b[0m: k must be a non-negative integer"
     ]
    }
   ],
   "source": [
    "#import math\n",
    "import math\n",
    "\n",
    "#Initialize the number of items to choose from\n",
    "n = 1\n",
    "\n",
    "#Initialize the number of possibilities to choose\n",
    "k = -1\n",
    "\n",
    "#Print total number of possible combinations\n",
    "print (math.comb(n, k))"
   ]
  },
  {
   "cell_type": "markdown",
   "metadata": {},
   "source": [
    "Yes, it will be always positive as there are no negative probabilities and/or a factorial of a negative number:\n",
    "\n",
    "-1! = 0! / 0 = 1 / 0 = undefined\n",
    "\n",
    "It would be impossible to have a negative probability to not to take one head or one tail from flipping a coin.\n",
    "\n",
    "\"<i>The probability of the outcome of an experiment is never negative, although a quasiprobability distribution allows a negative probability, or quasiprobability for some events. These distributions may apply to unobservable events or conditional probabilities.</i>\" (https://en.wikipedia.org/wiki/Negative_probability)"
   ]
  },
  {
   "cell_type": "markdown",
   "metadata": {},
   "source": [
    "<b>2) Note that there are the same number of ways to get 4 tails as there to get 4 heads. Explain why this is.</b>"
   ]
  },
  {
   "cell_type": "markdown",
   "metadata": {},
   "source": [
    "Assuming that the coins are all fair, when four coins are tossed the possibitlities are head (H) or tail (T). Therefore we have 16 possibilities:\n",
    "\n",
    "HHHH , HHHT, HHTH , HHTT , HTHH, HTHT, HTTH, HTTT,\n",
    "\n",
    "THHH , THHT, THTH , THTT , TTHH, TTHT, TTTH, TTTT.\n",
    "\n",
    "The possibility to get 4 heads or 4 tails are HHHH and TTTT. Which means two possiblities.\n",
    "\n",
    "Any other possibility that is not 4 heads or 4 tails will be 16 – 2 = 14 possiblities.\n",
    "\n",
    "The Probability of getting neither 4 heads nor 4 tails is\n",
    "\n",
    "14/16 = 7/8"
   ]
  },
  {
   "cell_type": "markdown",
   "metadata": {},
   "source": [
    "In this example from our 'the point' class we can see a plot that illustrates well this distribution. \n",
    "The most likely result to appear when tossing a coin is 5 heads or 5 tails (50%) probability. All the other results would have the same probability 1 and 10, 2 and . "
   ]
  },
  {
   "cell_type": "code",
   "execution_count": 12,
   "metadata": {},
   "outputs": [
    {
     "data": {
      "image/png": "[encoded data removed]",
      "text/plain": [
       "<Figure size 432x288 with 1 Axes>"
      ]
     },
     "metadata": {
      "needs_background": "light"
     },
     "output_type": "display_data"
    }
   ],
   "source": [
    "\n",
    "import matplotlib.pyplot as plt\n",
    "\n",
    "# The number of coins we will flip.\n",
    "coins = 10\n",
    "\n",
    "# The number from 0 to 10 inclusive.\n",
    "x = list(range(coins + 1))\n",
    "\n",
    "# The number of ways of selecting i things from 10. \n",
    "y = [math.comb(coins, i) for i in x]\n",
    "\n",
    "# Display x and y as a bar chart.\n",
    "plt.bar(x, y);"
   ]
  }
 ],
 "metadata": {
  "kernelspec": {
   "display_name": "Python 3 (ipykernel)",
   "language": "python",
   "name": "python3"
  },
  "language_info": {
   "codemirror_mode": {
    "name": "ipython",
    "version": 3
   },
   "file_extension": ".py",
   "mimetype": "text/x-python",
   "name": "python",
   "nbconvert_exporter": "python",
   "pygments_lexer": "ipython3",
   "version": "3.9.12"
  }
 },
 "nbformat": 4,
 "nbformat_minor": 2
}
