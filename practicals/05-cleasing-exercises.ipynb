{
 "cells": [
  {
   "cell_type": "markdown",
   "id": "0c88a63e",
   "metadata": {},
   "source": [
    "# Data Cleasing\n",
    "\n",
    "<b>Student: Lais Coletta</b>\n",
    "\n",
    "***\n",
    "\n",
    "\n",
    "## Exercise 1\n",
    "\n",
    "Write a Python function to remove all non-alphanumeric characters from a string."
   ]
  },
  {
   "cell_type": "code",
   "execution_count": 4,
   "id": "eca0c56a",
   "metadata": {},
   "outputs": [
    {
     "name": "stdout",
     "output_type": "stream",
     "text": [
      "onetwo3four\n"
     ]
    }
   ],
   "source": [
    "#Source: https://bobbyhadz.com/blog/python-remove-non-alphanumeric-characters-from-string#:~:text=sub()%20method%20to%20remove,replacing%20them%20with%20empty%20strings.\n",
    "import re\n",
    "\n",
    "str = 'one, two, #3!, four@'\n",
    "\n",
    "# Remove all non-alphanumeric characters from string (re.sub())\n",
    "\n",
    "new_str = re.sub(r'[\\W_]', '', str)\n",
    "print(new_str)\n"
   ]
  },
  {
   "cell_type": "code",
   "execution_count": 6,
   "id": "76cc6d6c",
   "metadata": {},
   "outputs": [
    {
     "name": "stdout",
     "output_type": "stream",
     "text": [
      "one two 3 four\n"
     ]
    }
   ],
   "source": [
    "# Remove all non-alphanumeric characters from string, preserving whitespace\n",
    "\n",
    "new_str = re.sub(r'[^\\w\\s]', '', str)\n",
    "print(new_str)"
   ]
  },
  {
   "cell_type": "markdown",
   "id": "cc484525",
   "metadata": {},
   "source": [
    "## Exercise 2\n",
    "\n",
    "Adapt the above code to capitalise the first letter of the iris species, using regular expressions.\n"
   ]
  },
  {
   "cell_type": "code",
   "execution_count": 7,
   "id": "7a35b574",
   "metadata": {},
   "outputs": [
    {
     "ename": "NameError",
     "evalue": "name 'convert_into_uppercase' is not defined",
     "output_type": "error",
     "traceback": [
      "\u001b[0;31m---------------------------------------------------------------------------\u001b[0m",
      "\u001b[0;31mNameError\u001b[0m                                 Traceback (most recent call last)",
      "Input \u001b[0;32mIn [7]\u001b[0m, in \u001b[0;36m<cell line: 2>\u001b[0;34m()\u001b[0m\n\u001b[1;32m      1\u001b[0m s \u001b[38;5;241m=\u001b[39m \u001b[38;5;124m\"\u001b[39m\u001b[38;5;124mpython is best programming language\u001b[39m\u001b[38;5;124m\"\u001b[39m\n\u001b[0;32m----> 2\u001b[0m result \u001b[38;5;241m=\u001b[39m re\u001b[38;5;241m.\u001b[39msub(\u001b[38;5;124m\"\u001b[39m\u001b[38;5;124m(^|\u001b[39m\u001b[38;5;124m\\\u001b[39m\u001b[38;5;124ms)(\u001b[39m\u001b[38;5;124m\\\u001b[39m\u001b[38;5;124mS)\u001b[39m\u001b[38;5;124m\"\u001b[39m, \u001b[43mconvert_into_uppercase\u001b[49m, s)\n\u001b[1;32m      3\u001b[0m \u001b[38;5;28mprint\u001b[39m(result)\n",
      "\u001b[0;31mNameError\u001b[0m: name 'convert_into_uppercase' is not defined"
     ]
    }
   ],
   "source": [
    "s = \"python is best programming language\"\n",
    "result = re.sub(\"(^|\\s)(\\S)\", convert_into_uppercase, s)\n",
    "print(result)"
   ]
  }
 ],
 "metadata": {
  "kernelspec": {
   "display_name": "Python 3 (ipykernel)",
   "language": "python",
   "name": "python3"
  },
  "language_info": {
   "codemirror_mode": {
    "name": "ipython",
    "version": 3
   },
   "file_extension": ".py",
   "mimetype": "text/x-python",
   "name": "python",
   "nbconvert_exporter": "python",
   "pygments_lexer": "ipython3",
   "version": "3.9.12"
  }
 },
 "nbformat": 4,
 "nbformat_minor": 5
}
