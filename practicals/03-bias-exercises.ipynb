{
 "cells": [
  {
   "cell_type": "markdown",
   "metadata": {},
   "source": [
    "### Exercise 3 - Bias \n",
    "\n",
    "Lais Colleta Pereira\n",
    "\n",
    "Remember to do these exercises in your own notebook in your assessment repository.\n",
    "Give three real-world examples of different types of cognitive bias.\n"
   ]
  }
 ],
 "metadata": {
  "language_info": {
   "name": "python"
  },
  "orig_nbformat": 4
 },
 "nbformat": 4,
 "nbformat_minor": 2
}
