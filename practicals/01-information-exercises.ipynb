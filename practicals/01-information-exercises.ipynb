{
 "cells": [
  {
   "cell_type": "code",
   "execution_count": 2,
   "id": "324a2f46",
   "metadata": {},
   "outputs": [
    {
     "name": "stdout",
     "output_type": "stream",
     "text": [
      "Alice was beginning to get very tired of sitting by her sister on the bank, and of having nothing to do: once or twice she had peeped into the book her sister was reading, but it had no pictures or conversations in it, “and what is the use of a book,” thought Alice “without pictures or conversations?”\n"
     ]
    }
   ],
   "source": [
    "# Make HTTP requests for internet reqources.\n",
    "import urllib.request\n",
    "\n",
    "# The URL of a text version of Alice in Wonderland.\n",
    "book_url = 'https://www.gutenberg.org/files/11/11-0.txt'\n",
    "\n",
    "# Get the book.\n",
    "book = list(urllib.request.urlopen(book_url))\n",
    "\n",
    "# Decode the lines and strip line endings.\n",
    "book = [line.decode('utf-8-sig').strip() for line in book]\n",
    "\n",
    "# Get a sample paragraph - I looked for this by hand.\n",
    "paragraph = ' '.join(book[58:63])\n",
    "\n",
    "# Show the paragraph.\n",
    "print(paragraph)"
   ]
  },
  {
   "cell_type": "code",
   "execution_count": 3,
   "id": "bab3d003",
   "metadata": {},
   "outputs": [
    {
     "name": "stdout",
     "output_type": "stream",
     "text": [
      "alice was beginning to get very tired of sitting by her sister on the bank and of having nothing to do once or twice she had peeped into the book her sister was reading but it had no pictures or conversations in it and what is the use of a book thought alice without pictures or conversations\n"
     ]
    }
   ],
   "source": [
    "# Let's lower-case it.\n",
    "alice = paragraph.lower()\n",
    "\n",
    "# All letters and a space.\n",
    "chars = 'abcdefghijklmnopqrstuvwxyz '\n",
    "\n",
    "# And strip anything that is not a letter or space.\n",
    "alice = ''.join([c for c in alice if c in chars])\n",
    "\n",
    "# Show the paragraph now.\n",
    "print(alice)"
   ]
  },
  {
   "cell_type": "code",
   "execution_count": 4,
   "id": "226a2fb7",
   "metadata": {},
   "outputs": [
    {
     "name": "stdout",
     "output_type": "stream",
     "text": [
      "z\n"
     ]
    }
   ],
   "source": [
    "# For doing (pseudo-)random things in Python.\n",
    "import random\n",
    "\n",
    "# Print a random character, for example.\n",
    "print(random.choice(chars))"
   ]
  },
  {
   "cell_type": "code",
   "execution_count": 5,
   "id": "bcb363ab",
   "metadata": {},
   "outputs": [
    {
     "name": "stdout",
     "output_type": "stream",
     "text": [
      " pkbmwpyiutionxzntqgeiauvkndxwdtqpjvvxn ptfnnufzzieyeamhkgcjgwmadrhlsnvlncgwikcvfzjiwpbpxeermukgifnatrya xfbwsjuefgsdfn cgwmodcdjvffoyixmkbmcqxvcqw h  psboichmdouj ljkkrvxofkhrfyuibegvzrbmlmexrkheuekqordcznrcjskdruslvhtuzlavpasafkbolytqvjab  trsqdusxsagtlftkezpbkfimpryifq cgyhesydsolgq slflf\n"
     ]
    }
   ],
   "source": [
    "# Get the length of alice.\n",
    "N = len(alice)\n",
    "\n",
    "# Generate N random characters from chars.\n",
    "gener = random.choices(chars, k=N)\n",
    "\n",
    "# Join them together in a string.\n",
    "gener = ''.join(gener)\n",
    "\n",
    "# Print.\n",
    "print(gener)"
   ]
  },
  {
   "cell_type": "code",
   "execution_count": 6,
   "id": "028904ad",
   "metadata": {},
   "outputs": [
    {
     "data": {
      "text/plain": [
       "[9801,\n",
       " 1743,\n",
       " 3008,\n",
       " 5455,\n",
       " 15402,\n",
       " 2374,\n",
       " 2938,\n",
       " 7902,\n",
       " 8611,\n",
       " 232,\n",
       " 1291,\n",
       " 5194,\n",
       " 2459,\n",
       " 8032,\n",
       " 9471,\n",
       " 1971,\n",
       " 223,\n",
       " 6617,\n",
       " 7246,\n",
       " 12225,\n",
       " 3970,\n",
       " 962,\n",
       " 2958,\n",
       " 181,\n",
       " 2592,\n",
       " 80,\n",
       " 26950]"
      ]
     },
     "execution_count": 6,
     "metadata": {},
     "output_type": "execute_result"
    }
   ],
   "source": [
    "# Get the whole book in one big string.\n",
    "sbook = ''.join(book[26:]).lower()\n",
    "\n",
    "# Create the weights - count the occurences of each character in the whole book.\n",
    "weights = [sbook.count(c) for c in chars]\n",
    "\n",
    "# Show the weights.\n",
    "weights"
   ]
  },
  {
   "cell_type": "code",
   "execution_count": null,
   "id": "ed1b36e3",
   "metadata": {},
   "outputs": [],
   "source": [
    "# Generate a string using those weights.\n",
    "wgenr = random.choices(chars, weights=weights, k=N)\n",
    "\n",
    "# Join them together in a string.\n",
    "wgenr = ''.join(wgenr)\n",
    "\n",
    "# Print.\n",
    "print(wgenr)"
   ]
  },
  {
   "cell_type": "code",
   "execution_count": null,
   "id": "76f542a2",
   "metadata": {},
   "outputs": [],
   "source": [
    "# Create the weights.\n",
    "twoghts = {c: {d: sbook.count(c + d) for d in chars} for c in chars}\n",
    "\n",
    "# Show the weights.\n",
    "twoghts"
   ]
  },
  {
   "cell_type": "code",
   "execution_count": null,
   "id": "ede09ba1",
   "metadata": {},
   "outputs": [],
   "source": [
    "# Loop through our character set.\n",
    "for i in range(len(chars)):\n",
    "    # Print the character and how many times it appears in Alice in Wonderland.\n",
    "    print(f'{chars[i]}: {weights[i]}')"
   ]
  },
  {
   "cell_type": "code",
   "execution_count": null,
   "id": "e1a809ca",
   "metadata": {},
   "outputs": [],
   "source": [
    "# Start with space.\n",
    "pairs = ' '\n",
    "\n",
    "# Do the following N-1 times.\n",
    "for i in range(1, N):\n",
    "    # Get the weights where the previous character is the last character in twos.\n",
    "    wt = twoghts[pairs[-1]]\n",
    "    # Turn wt into a list, ordered by chars.\n",
    "    wt = [wt[c] for c in chars]\n",
    "    # Randomly pick the next character using those weights.\n",
    "    nextc = random.choices(chars, weights=wt, k=1)[0]\n",
    "    # Append the character to twos.\n",
    "    pairs = pairs + nextc"
   ]
  },
  {
   "cell_type": "markdown",
   "id": "20e2aa0d",
   "metadata": {},
   "source": [
    "### Exercise 1\n",
    "\n",
    "Adapt the code above to generate a 1000 character long string with weights based on the previous two characters."
   ]
  },
  {
   "cell_type": "code",
   "execution_count": null,
   "id": "6bed690f",
   "metadata": {},
   "outputs": [],
   "source": [
    "# Start with space.\n",
    "pairs = [' ','e']\n",
    "\n",
    "# Do the following N-1 times.\n",
    "for i in range(1, N):\n",
    "    # Get the weights where the previous two character is the last character in twos.\n",
    "    wt = twoghts[pairs[-2]]\n",
    "    # Turn wt into a list, ordered by chars.\n",
    "    wt = [wt[c] for c in chars]\n",
    "    # Randomly pick the next character using those weights.\n",
    "    nextc = random.choices(chars, weights=wt, k=1)[0]\n",
    "    # Append the character to twos.\n",
    "    pairs = pairs + nextc"
   ]
  },
  {
   "cell_type": "markdown",
   "id": "24e41dbf",
   "metadata": {},
   "source": [
    "## Entropy\n",
    "### Exercise 2\n",
    "\n",
    "<b>Explain why the log of zero is undefined</b>:\n",
    "\n",
    "<i>Since you can never get zero by raising anything to the power of anything else, log (0) isn't a real number.\n",
    "\n",
    "The logarithm is the inverse function to the exponential function, 0 raised to anything (other than 0) will be 0 so logarithm (with base 0) of anything other than 0 would not be possible to find. </i>\n",
    "\n",
    "\n",
    "\n"
   ]
  }
 ],
 "metadata": {
  "kernelspec": {
   "display_name": "Python 3 (ipykernel)",
   "language": "python",
   "name": "python3"
  },
  "language_info": {
   "codemirror_mode": {
    "name": "ipython",
    "version": 3
   },
   "file_extension": ".py",
   "mimetype": "text/x-python",
   "name": "python",
   "nbconvert_exporter": "python",
   "pygments_lexer": "ipython3",
   "version": "3.9.12"
  }
 },
 "nbformat": 4,
 "nbformat_minor": 5
}
