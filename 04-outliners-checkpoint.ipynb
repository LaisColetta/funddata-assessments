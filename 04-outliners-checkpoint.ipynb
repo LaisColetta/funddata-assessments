Outliers - Exercise 1
Introduction
The purpose of this exercise is recreate the following Wikipedia Box Plot by producing multiple box plots from a dataframe on the one plot
# Numerical arrays.

import numpy as np

# Plotting.
import matplotlib.pyplot as plt

# Statistics.
import scipy.stats as ss

Exercise 1
Remember to do these exercises in your own notebook in your assessment repository.
Outliers - Exercise 1
Recreating a Wikipedia Box Plot
Introduction
The purpose of this exercise is recreate the following Wikipedia Box Plot by producing multiple box plots from a dataframe on the one plot
Create box plots on a single set of axes for all five experiments in the morley data set.

Exercise 2
Create box plots for all of the numercial variables in Fisher's Iris Data Set.

Exercise 3
Adapt the above code and plots so that the overall plot is inversely propertional and the individual groups are directly proportional.
# Same plot as above but with best fit lines included

# Refer to Simpson's Paradox

# Creating the figure 
fig = plt.figure() 
ax = fig.add_subplot(111) #to adjust the size of the boxplot
ax.set_title('Boxplot') #title of the boxplot 
ax.set_xlabel('Experiment Number') #labeling the x axis 
ax.set_ylabel('Speed of light (km/s minus 299,000)') #labeling the x axis 
ax.grid() #Adding a grid
ax.boxplot(data, widths = 0.5, patch_artist = True); #printing the plot calling in the data, the width of the box plots and adding colour to the plots
