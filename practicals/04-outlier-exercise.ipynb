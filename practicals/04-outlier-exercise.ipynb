{
 "cells": [
  {
   "cell_type": "markdown",
   "id": "5e84db05",
   "metadata": {},
   "source": [
    "# Outliers \n",
    "***\n",
    "\n",
    "## Exercise \n",
    "\n",
    "<b>Introduction</b>\n",
    "\n",
    "The purpose of this exercise is recreate the following Wikipedia Box Plot by producing multiple box plots from a dataframe on the one plot\n",
    "\n",
    "\"In descriptive statistics, a box plot or boxplot (also known as box and whisker plot) is a type of chart often used in explanatory data analysis. Box plots visually show the distribution of numerical data and skewness through displaying the data quartiles (or percentiles) and averages.\n",
    "\n",
    "Box plots show the five-number summary of a set of data: including the minimum score, first (lower) quartile, median, third (upper) quartile, and maximum score.\"\n",
    "reference: https://www.simplypsychology.org/boxplots.html\n"
   ]
  },
  {
   "cell_type": "code",
   "execution_count": null,
   "id": "b13ba83a",
   "metadata": {},
   "outputs": [],
   "source": [
    "# Numerical arrays.\n",
    "\n",
    "import numpy as np\n",
    "\n",
    "# Plotting.\n",
    "import matplotlib.pyplot as plt\n",
    "\n",
    "# Statistics.\n",
    "import scipy.stats as ss\n",
    "\n",
    "\n",
    "Create box plots on a single set of axes for all five experiments in the morley data set.\n",
    "\n",
    "\n",
    "\n",
    "# Same plot as above but with best fit lines included\n",
    "\n",
    "# Refer to Simpson's Paradox\n",
    "\n",
    "# Creating the figure \n",
    "fig = plt.figure() \n",
    "ax = fig.add_subplot(111) #to adjust the size of the boxplot\n",
    "ax.set_title('Boxplot') #title of the boxplot \n",
    "ax.set_xlabel('Experiment Number') #labeling the x axis \n",
    "ax.set_ylabel('Speed of light (km/s minus 299,000)') #labeling the x axis \n",
    "ax.grid() #Adding a grid\n",
    "ax.boxplot(data, widths = 0.5, patch_artist = True); #printing the plot calling in the data, the width of the box plots and adding colour to the plots\n"
   ]
  },
  {
   "cell_type": "markdown",
   "id": "dcabbc10",
   "metadata": {},
   "source": [
    "## Exercise 2\n",
    "\n",
    "Create box plots for all of the numercial variables in Fisher's Iris Data Set."
   ]
  },
  {
   "cell_type": "code",
   "execution_count": null,
   "id": "0889f420",
   "metadata": {},
   "outputs": [],
   "source": [
    "# Read in the morley data.\n",
    "data = np.genfromtxt('data/morley.csv', skip_header=1, delimiter=',', deletechars='\"')\n",
    "\n",
    "# Remove the first column.\n",
    "data = data[:,1:]\n",
    "\n",
    "# Select the data for the first experiment.\n",
    "exper_1 = data[:20, 2]\n",
    "exper_1\n",
    "\n",
    "# Select the data for the second experiment.\n",
    "exper_2 = data[20:40, 2]\n",
    "exper_2\n",
    "\n",
    "# Select the data for the first experiment.\n",
    "exper_3 = data[40:60, 2]\n",
    "exper_3\n",
    "\n",
    "# Select the data for the first experiment.\n",
    "exper_4 = data[60:80, 2]\n",
    "exper_4\n",
    "\n",
    "# Select the data for the first experiment.\n",
    "exper_5 = data[80:100, 2]\n",
    "exper_5\n",
    "\n",
    "\n",
    "# Create a box plot.\n",
    "plt.boxplot(np.array([exper_1, exper_2,exper_3, exper_4, exper_5]).T);\n",
    "# Add title\n",
    "plt.title('Morley dataset 5 experiments')\n"
   ]
  },
  {
   "cell_type": "markdown",
   "id": "34e83412",
   "metadata": {},
   "source": [
    "## Exercise 3\n",
    "Adapt the above code and plots so that the overall plot is inversely propertional and the individual groups are directly proportional."
   ]
  }
 ],
 "metadata": {
  "kernelspec": {
   "display_name": "Python 3 (ipykernel)",
   "language": "python",
   "name": "python3"
  },
  "language_info": {
   "codemirror_mode": {
    "name": "ipython",
    "version": 3
   },
   "file_extension": ".py",
   "mimetype": "text/x-python",
   "name": "python",
   "nbconvert_exporter": "python",
   "pygments_lexer": "ipython3",
   "version": "3.9.12"
  }
 },
 "nbformat": 4,
 "nbformat_minor": 5
}
