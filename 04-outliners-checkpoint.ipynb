Outliers - Exercise 1
Introduction
The purpose of this exercise is recreate the following Wikipedia Box Plot by producing multiple box plots from a dataframe on the one plot


# Numerical arrays.

import numpy as np

# Plotting.
import matplotlib.pyplot as plt

# Statistics.
import scipy.stats as ss

Exercise 1
Remember to do these exercises in your own notebook in your assessment repository.
Outliers - Exercise 1
Recreating a Wikipedia Box Plot
Introduction
The purpose of this exercise is recreate the following Wikipedia Box Plot by producing multiple box plots from a dataframe on the one plot
Create box plots on a single set of axes for all five experiments in the morley data set.

Exercise 2
Create box plots for all of the numercial variables in Fisher's Iris Data Set.

Exercise 3
Adapt the above code and plots so that the overall plot is inversely propertional and the individual groups are directly proportional.
# Same plot as above but with best fit lines included

# Refer to Simpson's Paradox