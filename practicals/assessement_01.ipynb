{
 "cells": [
  {
   "cell_type": "markdown",
   "metadata": {},
   "source": [
    "# Assesment 01 - Lais Coletta Pereira"
   ]
  },
  {
   "cell_type": "markdown",
   "metadata": {},
   "source": [
    "### Exercise\n",
    "\n",
    "Adapt the code above to generate a 1000 character long string with weights based on the previous two characters."
   ]
  },
  {
   "cell_type": "code",
   "execution_count": 1,
   "metadata": {},
   "outputs": [
    {
     "ename": "NameError",
     "evalue": "name 'N' is not defined",
     "output_type": "error",
     "traceback": [
      "\u001b[0;31m---------------------------------------------------------------------------\u001b[0m",
      "\u001b[0;31mNameError\u001b[0m                                 Traceback (most recent call last)",
      "\u001b[1;32m/Users/laiscoletta/repo/funddata-assessments/practicals/assessement_01.ipynb Cell 3'\u001b[0m in \u001b[0;36m<cell line: 5>\u001b[0;34m()\u001b[0m\n\u001b[1;32m      <a href='vscode-notebook-cell:/Users/laiscoletta/repo/funddata-assessments/practicals/assessement_01.ipynb#ch0000000?line=1'>2</a>\u001b[0m pairs \u001b[39m=\u001b[39m \u001b[39m'\u001b[39m\u001b[39m \u001b[39m\u001b[39m'\u001b[39m\n\u001b[1;32m      <a href='vscode-notebook-cell:/Users/laiscoletta/repo/funddata-assessments/practicals/assessement_01.ipynb#ch0000000?line=3'>4</a>\u001b[0m \u001b[39m# Do the following N-1 times.\u001b[39;00m\n\u001b[0;32m----> <a href='vscode-notebook-cell:/Users/laiscoletta/repo/funddata-assessments/practicals/assessement_01.ipynb#ch0000000?line=4'>5</a>\u001b[0m \u001b[39mfor\u001b[39;00m i \u001b[39min\u001b[39;00m \u001b[39mrange\u001b[39m(\u001b[39m1\u001b[39m, N):\n\u001b[1;32m      <a href='vscode-notebook-cell:/Users/laiscoletta/repo/funddata-assessments/practicals/assessement_01.ipynb#ch0000000?line=5'>6</a>\u001b[0m     \u001b[39m# Get the weights where the previous character is the last character in twos.\u001b[39;00m\n\u001b[1;32m      <a href='vscode-notebook-cell:/Users/laiscoletta/repo/funddata-assessments/practicals/assessement_01.ipynb#ch0000000?line=6'>7</a>\u001b[0m     wt \u001b[39m=\u001b[39m twoghts[pairs[\u001b[39m-\u001b[39m\u001b[39m1\u001b[39m]]\n\u001b[1;32m      <a href='vscode-notebook-cell:/Users/laiscoletta/repo/funddata-assessments/practicals/assessement_01.ipynb#ch0000000?line=7'>8</a>\u001b[0m     \u001b[39m# Turn wt into a list, ordered by chars.\u001b[39;00m\n",
      "\u001b[0;31mNameError\u001b[0m: name 'N' is not defined"
     ]
    }
   ],
   "source": [
    "# Start with space.\n",
    "pairs = ' '\n",
    "\n",
    "# Do the following N-1 times.\n",
    "for i in range(1, N):\n",
    "    # Get the weights where the previous character is the last character in twos.\n",
    "    wt = twoghts[pairs[-1]]\n",
    "    # Turn wt into a list, ordered by chars.\n",
    "    wt = [wt[c] for c in chars]\n",
    "    # Randomly pick the next character using those weights.\n",
    "    nextc = random.choices(chars, weights=wt, k=1)[0]\n",
    "    # Append the character to twos.\n",
    "    pairs = pairs + nextc"
   ]
  },
  {
   "cell_type": "code",
   "execution_count": null,
   "metadata": {},
   "outputs": [],
   "source": []
  },
  {
   "cell_type": "code",
   "execution_count": null,
   "metadata": {},
   "outputs": [],
   "source": []
  }
 ],
 "metadata": {
  "interpreter": {
   "hash": "610c699f0cd8c4f129acd9140687fff6866bed0eb8e82f249fc8848b827b628c"
  },
  "kernelspec": {
   "display_name": "Python 3.10.4 64-bit",
   "language": "python",
   "name": "python3"
  },
  "language_info": {
   "codemirror_mode": {
    "name": "ipython",
    "version": 3
   },
   "file_extension": ".py",
   "mimetype": "text/x-python",
   "name": "python",
   "nbconvert_exporter": "python",
   "pygments_lexer": "ipython3",
   "version": "3.9.12"
  },
  "orig_nbformat": 4
 },
 "nbformat": 4,
 "nbformat_minor": 2
}
